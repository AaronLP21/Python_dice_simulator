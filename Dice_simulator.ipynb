{
 "cells": [
  {
   "cell_type": "markdown",
   "metadata": {},
   "source": [
    "## \"Simulación, lanzamientos de dados\"\n",
    "_@Versión: 1_\n",
    "\n",
    "_@Fecha: 05-11-2020_\n",
    "\n"
   ]
  },
  {
   "cell_type": "markdown",
   "metadata": {},
   "source": [
    "Primero un dado:"
   ]
  },
  {
   "cell_type": "code",
   "execution_count": 3,
   "metadata": {},
   "outputs": [
    {
     "name": "stdout",
     "output_type": "stream",
     "text": [
      "--------Simulemos el lanzamiento de un dado justo--------\n",
      "\n",
      "El resultado del lanzamiento es:  1 \n",
      "\n",
      "Presiona cualquier tecla para lanzar nuevamente ó 'S' para salir: e\n",
      "El resultado del lanzamiento es:  5 \n",
      "\n",
      "Presiona cualquier tecla para lanzar nuevamente ó 'S' para salir: t\n",
      "El resultado del lanzamiento es:  6 \n",
      "\n",
      "Presiona cualquier tecla para lanzar nuevamente ó 'S' para salir: \n",
      "El resultado del lanzamiento es:  5 \n",
      "\n",
      "Presiona cualquier tecla para lanzar nuevamente ó 'S' para salir: \n",
      "El resultado del lanzamiento es:  2 \n",
      "\n",
      "Presiona cualquier tecla para lanzar nuevamente ó 'S' para salir: s\n",
      "Programa terminado...\n"
     ]
    }
   ],
   "source": [
    "import random#version 2, 1 lanzamiento\n",
    "bandera=True\n",
    "lanzamientos=[]\n",
    "print(\"--------Simulemos el lanzamiento de un dado justo--------\\n\")\n",
    "try:\n",
    "    while bandera:\n",
    "        resultado = random.randint(1,6)\n",
    "        print(\"El resultado del lanzamiento es: \", resultado,\"\\n\")\n",
    "        decision=input(\"Presiona cualquier tecla para lanzar nuevamente ó 'S' para salir: \").upper()\n",
    "        if decision == 'S':#ó 's' ; ya se contemplo el caso de que el usuario teclee minúscula\n",
    "            bandera=False\n",
    "    print(\"Programa terminado...\")\n",
    "except:\n",
    "    print(\"La entrada no es valida, programa terminado\")"
   ]
  },
  {
   "cell_type": "markdown",
   "metadata": {},
   "source": [
    "Ahora 'n' dados:"
   ]
  },
  {
   "cell_type": "code",
   "execution_count": 7,
   "metadata": {},
   "outputs": [
    {
     "name": "stdout",
     "output_type": "stream",
     "text": [
      "--------Simulemos 'n' lanzamientos de dados justos--------\n",
      "\n",
      "¿Cuantos dados quieres lanzar?: 3\n",
      "Los lanzamientos fueron:  [5, 1, 6] \n",
      "\n",
      "Presiona cualquier tecla para lanzar nuevamente los dados ó 'S' para terminar el programa: \n",
      "¿Cuantos dados quieres lanzar?: r\n",
      "La entrada no es valida, programa terminado\n"
     ]
    }
   ],
   "source": [
    "import random#version 2, n lanzamientos\n",
    "bandera=True\n",
    "lanzamientos=[]\n",
    "print(\"--------Simulemos 'n' lanzamientos de dados justos--------\\n\")\n",
    "try:\n",
    "    while bandera:        \n",
    "        n_dados=int(input(\"¿Cuantos dados quieres lanzar?: \"))\n",
    "        for dados in range(n_dados):\n",
    "            lanzamientos.append(random.randint(1,6))\n",
    "        print(\"Los lanzamientos fueron: \", lanzamientos,\"\\n\")\n",
    "        decision=input(\"Presiona cualquier tecla para lanzar nuevamente los dados ó 'S' para terminar el programa: \").upper()\n",
    "        lanzamientos=[]\n",
    "        if decision == 'S':#ó 's' ; ya se contemplo el caso de que el usuario teclee minúscula\n",
    "            bandera=False\n",
    "    print(\"Programa terminado...\")\n",
    "except:\n",
    "    print(\"La entrada no es valida, programa terminado\")"
   ]
  },
  {
   "cell_type": "code",
   "execution_count": null,
   "metadata": {},
   "outputs": [],
   "source": []
  }
 ],
 "metadata": {
  "kernelspec": {
   "display_name": "Python 3",
   "language": "python",
   "name": "python3"
  },
  "language_info": {
   "codemirror_mode": {
    "name": "ipython",
    "version": 3
   },
   "file_extension": ".py",
   "mimetype": "text/x-python",
   "name": "python",
   "nbconvert_exporter": "python",
   "pygments_lexer": "ipython3",
   "version": "3.7.1"
  }
 },
 "nbformat": 4,
 "nbformat_minor": 4
}
